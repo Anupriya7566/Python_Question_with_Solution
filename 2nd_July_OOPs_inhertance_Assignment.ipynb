{
 "cells": [
  {
   "cell_type": "markdown",
   "id": "0e7255d7",
   "metadata": {},
   "source": [
    "# OOPs Inheritance Assignment"
   ]
  },
  {
   "cell_type": "code",
   "execution_count": null,
   "id": "999167bb",
   "metadata": {},
   "outputs": [],
   "source": []
  },
  {
   "cell_type": "markdown",
   "id": "ab52aa61",
   "metadata": {},
   "source": [
    "### 1. Explain what inheritance is in object-oriented programming and why it is used."
   ]
  },
  {
   "cell_type": "markdown",
   "id": "048cdcef",
   "metadata": {},
   "source": [
    "Ans-Inheritance is one of the core concepts of object-oriented programming (OOP) languages. It is a mechanism where you can derive a class from another class for a hierarchy of classes that share a set of attributes and methods.And a class that inherits from another class shares all the attributes and methods of the referenced class.\n",
    "\n",
    "Inheritance is used in OOP because it allows for code reusability. Instead of writing the same code again and again, we can simply inherit the properties of one class into another. This saves time and effort for developers, reduces the amount of code that needs to be written, and provides a better understanding of code to other developers working in a team. Inheritance also enables you to create new classes that reuse, extend, and modify the behavior defined in other classes."
   ]
  },
  {
   "cell_type": "markdown",
   "id": "5a0d37ed",
   "metadata": {},
   "source": [
    "### 2. Discuss the concept of single inheritance and multiple inheritance, highlighting theirdifferences and advantages."
   ]
  },
  {
   "cell_type": "markdown",
   "id": "36ec3b09",
   "metadata": {},
   "source": [
    "Ans- Single inheritance is a type of inheritance in which a subclass inherits properties and methods from a single superclass. In single inheritance, the derived class uses the features of the single base class1. This allows for code reusability, as the derived class can use the properties and methods of the base class without having to rewrite them.\n",
    "\n",
    "Multiple inheritance is a type of inheritance in which a subclass inherits properties and methods from multiple superclasses. In multiple inheritance, the derived class uses the joint features of the inherited base classes. This allows for even greater code reusability, as the derived class can use properties and methods from multiple base classes.\n",
    "\n",
    "The main difference between single and multiple inheritance is that in single inheritance, the subclass inherits from a single superclass, while in multiple inheritance, the subclass inherits from multiple superclasses. Single inheritance is simpler to implement and understand, while multiple inheritance can be more complex due to the potential for conflicts between inherited properties and methods.\n",
    "\n",
    "Both single and multiple inheritance have their advantages. Single inheritance is easier to implement and understand, while multiple inheritance allows for greater code reusability and flexibility. Ultimately, the choice between single and multiple inheritance depends on the specific needs of your program."
   ]
  },
  {
   "cell_type": "markdown",
   "id": "d7f74f9b",
   "metadata": {},
   "source": [
    "### 3. Explain the terms \"base class\" and \"derived class\" in the context of inheritance."
   ]
  },
  {
   "cell_type": "markdown",
   "id": "eab36520",
   "metadata": {},
   "source": [
    "Ans- In the context of inheritance, a “base class” is the class whose members are inherited by another class. The class that inherits those members is called the \"derived class\". The derived class inherits all the properties of the base class, without changing the properties of the base class, and may add new features to its own. These new features in the derived class will not affect the base class. The derived class is the specialized class for the base class.\n",
    "\n",
    "In other words, a base class is a general class that provides common properties and methods to other classes, while a derived class is a more specific class that inherits those properties and methods from the base class and can add its own unique properties and methods. This allows for code reusability and flexibility in object-oriented programming. "
   ]
  },
  {
   "cell_type": "markdown",
   "id": "61caf573",
   "metadata": {},
   "source": [
    "### 4. What is the significance of the \"protected\" access modifier in inheritance? How doesit differ from \"private\" and \"public\" modifiers?"
   ]
  },
  {
   "cell_type": "markdown",
   "id": "200c1f6a",
   "metadata": {},
   "source": [
    "Ans- The “protected” access modifier is used in inheritance to specify that a member of a class can be accessed by the members of its derived classes, as well as by members of the same package. This means that if a class member is declared as “protected”, it can be accessed by any class that inherits from the class in which it is declared, regardless of whether the derived class is in the same package or not.\n",
    "\n",
    "The “protected” access modifier differs from the “private” and “public” access modifiers in terms of its level of accessibility. A “private” member is only accessible within the class in which it is declared, while a “public” member is accessible from anywhere. The “protected” access modifier provides a level of accessibility that falls between these two extremes, allowing access by derived classes and members of the same package, but not by other classes.\n",
    "\n",
    "The “protected” access modifier is used in inheritance to allow derived classes to access members of their base classes, while still providing a level of encapsulation and protection for those members. It differs from the “private” and “public” access modifiers in terms of its level of accessibility."
   ]
  },
  {
   "cell_type": "markdown",
   "id": "a7c69da4",
   "metadata": {},
   "source": [
    "### 5. What is the purpose of the \"super\" keyword in inheritance? Provide an example."
   ]
  },
  {
   "cell_type": "markdown",
   "id": "9e5e4bdd",
   "metadata": {},
   "source": [
    "Ans- The “super” keyword is used in inheritance to refer to the parent class of a subclass. It is used to access the members (methods, fields, and constructors) of the parent class. This is useful when the subclass wants to invoke the parent class’s implementation of a method or access its fields in addition to its own.\n",
    "\n",
    "Example:\n"
   ]
  },
  {
   "cell_type": "code",
   "execution_count": 4,
   "id": "75b68b08",
   "metadata": {},
   "outputs": [
    {
     "ename": "SyntaxError",
     "evalue": "invalid syntax (2117441594.py, line 1)",
     "output_type": "error",
     "traceback": [
      "\u001b[1;36m  Cell \u001b[1;32mIn[4], line 1\u001b[1;36m\u001b[0m\n\u001b[1;33m    class Vehicle {\u001b[0m\n\u001b[1;37m                  ^\u001b[0m\n\u001b[1;31mSyntaxError\u001b[0m\u001b[1;31m:\u001b[0m invalid syntax\n"
     ]
    }
   ],
   "source": [
    "class Vehicle {\n",
    "    int maxSpeed = 120;\n",
    "}\n",
    "\n",
    "class Car extends Vehicle {\n",
    "    int maxSpeed = 180;\n",
    "\n",
    "    void display() {\n",
    "        System.out.println(\"Maximum Speed: \" + super.maxSpeed);\n",
    "    }\n",
    "}\n",
    "\n",
    "class Test {\n",
    "    public static void main(String[] args) {\n",
    "        Car small = new Car();\n",
    "        small.display();\n",
    "    }\n",
    "}"
   ]
  },
  {
   "cell_type": "markdown",
   "id": "4be8910a",
   "metadata": {},
   "source": [
    "### 6. Create a base class called \"Vehicle\" with attributes like \"make\", \"model\", and \"year\".Then, create a derived class called \"Car\" that inherits from \"Vehicle\" and adds anattribute called \"fuel_type\". Implement appropriate methods in both classes."
   ]
  },
  {
   "cell_type": "code",
   "execution_count": 6,
   "id": "94e5d2b7",
   "metadata": {},
   "outputs": [],
   "source": [
    "class Vehicle:\n",
    "    def __init__(self, make, model, year):\n",
    "        self.make = make\n",
    "        self.model = model\n",
    "        self.year = year\n",
    "\n",
    "    def display_info(self):\n",
    "        print(f\"Make: {self.make}\")\n",
    "        print(f\"Model: {self.model}\")\n",
    "        print(f\"Year: {self.year}\")\n",
    "\n",
    "class Car(Vehicle):\n",
    "    def __init__(self, make, model, year, fuel_type):\n",
    "        super().__init__(make, model, year)\n",
    "        self.fuel_type = fuel_type\n",
    "\n",
    "    def display_info(self):\n",
    "        super().display_info()\n",
    "        print(f\"Fuel Type: {self.fuel_type}\")"
   ]
  },
  {
   "cell_type": "markdown",
   "id": "da63d0b0",
   "metadata": {},
   "source": [
    "In this example, the Vehicle class has a constructor that takes in the make, model, and year of the vehicle as arguments and assigns them to instance variables. The class also has a method called display_info() that prints out the values of these instance variables.\n",
    "\n",
    "The Car class is derived from the Vehicle class and inherits all of its attributes and methods. The Car class has its own constructor that takes in the same arguments as the Vehicle constructor, as well as an additional argument for the fuel_type of the car. The constructor uses the super() function to call the constructor of the parent class and pass in the appropriate arguments. The Car class also has its own implementation of the display_info() method that calls the parent class’s implementation using the super() function and then prints out the value of the additional fuel_type attribute."
   ]
  },
  {
   "cell_type": "markdown",
   "id": "27b4c08a",
   "metadata": {},
   "source": [
    "### 7. Create a base class called \"Employee\" with attributes like \"name\" and \"salary.\"Derive two classes, \"Manager\" and \"Developer,\" from \"Employee.\" Add an additionalattribute called \"department\" for the \"Manager\" class and \"programming_language\"for the \"Developer\" class."
   ]
  },
  {
   "cell_type": "code",
   "execution_count": 8,
   "id": "64613ece",
   "metadata": {},
   "outputs": [],
   "source": [
    "class Employee:\n",
    "    def __init__(self, name, salary):\n",
    "        self.name = name\n",
    "        self.salary = salary\n",
    "\n",
    "    def display_info(self):\n",
    "        print(f\"Name: {self.name}\")\n",
    "        print(f\"Salary: {self.salary}\")\n",
    "\n",
    "class Manager(Employee):\n",
    "    def __init__(self, name, salary, department):\n",
    "        super().__init__(name, salary)\n",
    "        self.department = department\n",
    "\n",
    "    def display_info(self):\n",
    "        super().display_info()\n",
    "        print(f\"Department: {self.department}\")\n",
    "\n",
    "class Developer(Employee):\n",
    "    def __init__(self, name, salary, programming_language):\n",
    "        super().__init__(name, salary)\n",
    "        self.programming_language = programming_language\n",
    "\n",
    "    def display_info(self):\n",
    "        super().display_info()\n",
    "        print(f\"Programming Language: {self.programming_language}\")"
   ]
  },
  {
   "cell_type": "markdown",
   "id": "966398f1",
   "metadata": {},
   "source": [
    "In this example, the Employee class has a constructor that takes in the name and salary of the employee as arguments and assigns them to instance variables. The class also has a method called display_info() that prints out the values of these instance variables.\n",
    "\n",
    "The Manager and Developer classes are derived from the Employee class and inherit all of its attributes and methods. Both classes have their own constructors that take in the same arguments as the Employee constructor, as well as an additional argument for their respective additional attributes (department for the Manager class and programming_language for the Developer class). The constructors use the super() function to call the constructor of the parent class and pass in the appropriate arguments. Both classes also have their own implementations of the display_info() method that call the parent class’s implementation using the super() function and then print out the value of their additional attribute."
   ]
  },
  {
   "cell_type": "markdown",
   "id": "ce4bbd8c",
   "metadata": {},
   "source": [
    "### 8. Design a base class called \"Shape\" with attributes like \"colour\" and \"border_width.\"Create derived classes, \"Rectangle\" and \"Circle,\" that inherit from \"Shape\" and addspecific attributes like \"length\" and \"width\" for the \"Rectangle\" class and \"radius\" forthe \"Circle\" class.\n"
   ]
  },
  {
   "cell_type": "code",
   "execution_count": 9,
   "id": "d0215a90",
   "metadata": {},
   "outputs": [],
   "source": [
    "class Shape:\n",
    "    def __init__(self, colour, border_width):\n",
    "        self.colour = colour\n",
    "        self.border_width = border_width\n",
    "\n",
    "    def display_info(self):\n",
    "        print(f\"Colour: {self.colour}\")\n",
    "        print(f\"Border Width: {self.border_width}\")\n",
    "\n",
    "class Rectangle(Shape):\n",
    "    def __init__(self, colour, border_width, length, width):\n",
    "        super().__init__(colour, border_width)\n",
    "        self.length = length\n",
    "        self.width = width\n",
    "\n",
    "    def display_info(self):\n",
    "        super().display_info()\n",
    "        print(f\"Length: {self.length}\")\n",
    "        print(f\"Width: {self.width}\")\n",
    "\n",
    "class Circle(Shape):\n",
    "    def __init__(self, colour, border_width, radius):\n",
    "        super().__init__(colour, border_width)\n",
    "        self.radius = radius\n",
    "\n",
    "    def display_info(self):\n",
    "        super().display_info()\n",
    "        print(f\"Radius: {self.radius}\")"
   ]
  },
  {
   "cell_type": "markdown",
   "id": "37ab911c",
   "metadata": {},
   "source": [
    "In this example, the Shape class has a constructor that takes in the colour and border_width of the shape as arguments and assigns them to instance variables. The class also has a method called display_info() that prints out the values of these instance variables."
   ]
  },
  {
   "cell_type": "markdown",
   "id": "33438e6f",
   "metadata": {},
   "source": [
    "### 9. Create a base class called \"Device\" with attributes like \"brand\" and \"model.\" Derivetwo classes, \"Phone\" and \"Tablet,\" from \"Device.\" Add specific attributes like\"screen_size\" for the \"Phone\" class and \"battery_capacity\" for the \"Tablet\" class.\n"
   ]
  },
  {
   "cell_type": "code",
   "execution_count": 10,
   "id": "3e31a272",
   "metadata": {},
   "outputs": [],
   "source": [
    "class Device:\n",
    "    def __init__(self, brand, model):\n",
    "        self.brand = brand\n",
    "        self.model = model\n",
    "\n",
    "    def display_info(self):\n",
    "        print(f\"Brand: {self.brand}\")\n",
    "        print(f\"Model: {self.model}\")\n",
    "\n",
    "class Phone(Device):\n",
    "    def __init__(self, brand, model, screen_size):\n",
    "        super().__init__(brand, model)\n",
    "        self.screen_size = screen_size\n",
    "\n",
    "    def display_info(self):\n",
    "        super().display_info()\n",
    "        print(f\"Screen Size: {self.screen_size}\")\n",
    "\n",
    "class Tablet(Device):\n",
    "    def __init__(self, brand, model, battery_capacity):\n",
    "        super().__init__(brand, model)\n",
    "        self.battery_capacity = battery_capacity\n",
    "\n",
    "    def display_info(self):\n",
    "        super().display_info()\n",
    "        print(f\"Battery Capacity: {self.battery_capacity}\")"
   ]
  },
  {
   "cell_type": "markdown",
   "id": "e1759d3d",
   "metadata": {},
   "source": [
    "In this example, the Device class has a constructor that takes in the brand and model of the device as arguments and assigns them to instance variables. The class also has a method called display_info() that prints out the values of these instance variables.\n",
    "\n",
    "The Phone and Tablet classes are derived from the Device class and inherit all of its attributes and methods. Both classes have their own constructors that take in the same arguments as the Device constructor, as well as an additional argument for their respective specific attributes (screen_size for the Phone class and battery_capacity for the Tablet class). The constructors use the super() function to call the constructor of the parent class and pass in the appropriate arguments. Both classes also have their own implementations of the display_info() method that call the parent class’s implementation using the super() function and then print out the value of their specific attribute."
   ]
  },
  {
   "cell_type": "markdown",
   "id": "8ae446d6",
   "metadata": {},
   "source": [
    "### 10. Create a base class called \"BankAccount\" with attributes like \"account_number\" and\"balance.\" Derive two classes, \"SavingsAccount\" and \"CheckingAccount,\" fro\"BankAccount.\" Add specific methods like \"calculate_interest\" for the\"SavingsAccount\" class and \"deduct_fees\" for the \"CheckingAccount\" class.\n"
   ]
  },
  {
   "cell_type": "code",
   "execution_count": 11,
   "id": "83f89dac",
   "metadata": {},
   "outputs": [],
   "source": [
    "class BankAccount:\n",
    "    def __init__(self, account_number, balance):\n",
    "        self.account_number = account_number\n",
    "        self.balance = balance\n",
    "\n",
    "    def display_info(self):\n",
    "        print(f\"Account Number: {self.account_number}\")\n",
    "        print(f\"Balance: {self.balance}\")\n",
    "\n",
    "class SavingsAccount(BankAccount):\n",
    "    def __init__(self, account_number, balance, interest_rate):\n",
    "        super().__init__(account_number, balance)\n",
    "        self.interest_rate = interest_rate\n",
    "\n",
    "    def calculate_interest(self):\n",
    "        interest = self.balance * self.interest_rate\n",
    "        self.balance += interest\n",
    "        return interest\n",
    "\n",
    "    def display_info(self):\n",
    "        super().display_info()\n",
    "        print(f\"Interest Rate: {self.interest_rate}\")\n",
    "\n",
    "class CheckingAccount(BankAccount):\n",
    "    def __init__(self, account_number, balance, fee):\n",
    "        super().__init__(account_number, balance)\n",
    "        self.fee = fee\n",
    "\n",
    "    def deduct_fees(self):\n",
    "        self.balance -= self.fee\n",
    "\n",
    "    def display_info(self):\n",
    "        super().display_info()\n",
    "        print(f\"Fee: {self.fee}\")"
   ]
  },
  {
   "cell_type": "markdown",
   "id": "96d8bc90",
   "metadata": {},
   "source": [
    "In this example, the BankAccount class has a constructor that takes in the account_number and balance of the bank account as arguments and assigns them to instance variables. The class also has a method called display_info() that prints out the values of these instance variables.\n",
    "\n",
    "The SavingsAccount and CheckingAccount classes are derived from the BankAccount class and inherit all of its attributes and methods. Both classes have their own constructors that take in the same arguments as the BankAccount constructor, as well as an additional argument for their respective specific attributes (interest_rate for the SavingsAccount class and fee for the CheckingAccount class). The constructors use the super() function to call the constructor of the parent class and pass in the appropriate arguments. Both classes also have their own implementations of the display_info() method that call the parent class’s implementation using the super() function and then print out the value of their specific attribute."
   ]
  },
  {
   "cell_type": "code",
   "execution_count": null,
   "id": "a81ce0c2",
   "metadata": {},
   "outputs": [],
   "source": []
  },
  {
   "cell_type": "code",
   "execution_count": null,
   "id": "16cc63fd",
   "metadata": {},
   "outputs": [],
   "source": []
  },
  {
   "cell_type": "code",
   "execution_count": null,
   "id": "46cf0461",
   "metadata": {},
   "outputs": [],
   "source": []
  },
  {
   "cell_type": "code",
   "execution_count": null,
   "id": "328e34da",
   "metadata": {},
   "outputs": [],
   "source": []
  },
  {
   "cell_type": "code",
   "execution_count": null,
   "id": "5417b67f",
   "metadata": {},
   "outputs": [],
   "source": []
  }
 ],
 "metadata": {
  "kernelspec": {
   "display_name": "Python 3 (ipykernel)",
   "language": "python",
   "name": "python3"
  },
  "language_info": {
   "codemirror_mode": {
    "name": "ipython",
    "version": 3
   },
   "file_extension": ".py",
   "mimetype": "text/x-python",
   "name": "python",
   "nbconvert_exporter": "python",
   "pygments_lexer": "ipython3",
   "version": "3.10.9"
  }
 },
 "nbformat": 4,
 "nbformat_minor": 5
}
