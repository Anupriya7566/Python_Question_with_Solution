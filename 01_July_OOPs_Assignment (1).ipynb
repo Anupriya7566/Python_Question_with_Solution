{
 "cells": [
  {
   "cell_type": "markdown",
   "id": "6efef862",
   "metadata": {},
   "source": [
    "##                                               OOPs Assignment"
   ]
  },
  {
   "cell_type": "markdown",
   "id": "92f1ed0a",
   "metadata": {},
   "source": []
  },
  {
   "cell_type": "markdown",
   "id": "994c9e2a",
   "metadata": {},
   "source": [
    "### 1. What is the primary goal of Object-Oriented Programming (OOP)"
   ]
  },
  {
   "cell_type": "markdown",
   "id": "3fac9121",
   "metadata": {},
   "source": [
    "Ans- The primary goal of Object-Oriented Programming (OOP) is to implement real-world entities like inheritance, hiding, polymorphism, etc. in programming. OOP aims to bind together the data and the functions that operate on them so that no other part of the code can access this data except that function. This makes the development and maintenance of projects more effortless. OOP provides the feature of data hiding, which is good for security concerns. It also ensures code reusability and lets us write generic code, which will work with a range of data, so we don’t have to write basic stuff over and over again. Overall, OOP is a powerful tool for solving real-world problems in an efficient and organized manner."
   ]
  },
  {
   "cell_type": "markdown",
   "id": "6207ed14",
   "metadata": {},
   "source": [
    "### 2. What is an object in Python?"
   ]
  },
  {
   "cell_type": "markdown",
   "id": "38633d25",
   "metadata": {},
   "source": [
    "Ans- An object in Python is an instance of a class. A class is like a blueprint, while an instance is a copy of the class with actual values. Python is an object-oriented programming language that emphasizes objects, meaning it mainly focuses on functions. Python objects are basically an encapsulation of data variables and methods that act on that data into a single entity"
   ]
  },
  {
   "cell_type": "markdown",
   "id": "5b6b28dc",
   "metadata": {},
   "source": [
    "### 3. What is a class in Python?"
   ]
  },
  {
   "cell_type": "markdown",
   "id": "81b7c2bc",
   "metadata": {},
   "source": [
    "Ans- In Python, a class is a blueprint for creating objects. It defines the attributes and methods that an object of that class will have. Classes are created using the class keyword, followed by the name of the class and a colon. The body of the class is indented and contains the attributes and methods of the class.\n"
   ]
  },
  {
   "cell_type": "markdown",
   "id": "c2d778ac",
   "metadata": {},
   "source": [
    "### 4. What are attributes and methods in a class?"
   ]
  },
  {
   "cell_type": "markdown",
   "id": "8f88ef9b",
   "metadata": {},
   "source": [
    "Ans- In a class, attributes are variables that store data specific to an object, while methods are functions that perform actions on or with the object’s data.\n",
    "let’s say we have a class called Dog that represents a dog. An attribute of this class might be name, which stores the name of the dog. A method of this class might be bark, which makes the dog bark.\n",
    "\n",
    "Example:-"
   ]
  },
  {
   "cell_type": "code",
   "execution_count": 3,
   "id": "6e6023cb",
   "metadata": {},
   "outputs": [
    {
     "name": "stdout",
     "output_type": "stream",
     "text": [
      "Rufus says woof!\n"
     ]
    }
   ],
   "source": [
    "class Dog:\n",
    "    def __init__(self, name):\n",
    "        self.name = name\n",
    "\n",
    "    def bark(self):\n",
    "        print(f\"{self.name} says woof!\")\n",
    "\n",
    "my_dog = Dog(\"Rufus\")\n",
    "my_dog.bark()"
   ]
  },
  {
   "cell_type": "markdown",
   "id": "e9bafac3",
   "metadata": {},
   "source": [
    "### 5. What is the difference between class variables and instance variables in Python?"
   ]
  },
  {
   "cell_type": "markdown",
   "id": "b59ef8ab",
   "metadata": {},
   "source": [
    "Ans- In Python, class variables are variables that are shared by all instances of a class, while instance variables are specific to each instance of the class.\n",
    "\n",
    "Class variables are defined within the class definition, but outside of any methods. They are usually used to store values that are common to all instances of the class. For example, you might have a class variable that stores the number of instances of the class that have been created.\n",
    "\n",
    "Instance variables, on the other hand, are defined within methods of the class, usually within the __init__ method. They are used to store data that is specific to each instance of the class. For example, you might have an instance variable that stores the name of a person object."
   ]
  },
  {
   "cell_type": "markdown",
   "id": "5a5b6e70",
   "metadata": {},
   "source": [
    "### 6. What is the purpose of the self parameter in Python class methods?"
   ]
  },
  {
   "cell_type": "markdown",
   "id": "aa02e7e5",
   "metadata": {},
   "source": [
    "Ans-The reason you need to use self. is because Python does not use special syntax to refer to instance attributes. Python decided to do methods in a way that makes the instance to which the method belongs be passed automatically, but not received automatically: the first parameter of methods is the instance the method is called on. That makes methods entirely the same as functions, and leaves the actual name to use up to you (although self is the convention, and people will generally frown at you when you use something else.) self is not special to the code, it's just another object.\n",
    "\n",
    "Python could have done something else to distinguish normal names from attributes -- special syntax like Ruby has, or requiring declarations like C++ and Java do, or perhaps something yet more different -- but it didn't. Python's all for making things explicit, making it obvious what's what, and although it doesn't do it entirely everywhere, it does do it for instance attributes. That's why assigning to an instance attribute needs to know what instance to assign to, and that's why it needs self."
   ]
  },
  {
   "cell_type": "markdown",
   "id": "b5a7508e",
   "metadata": {},
   "source": [
    "### 7. For a library management system, you have to design the \"Book\" class with OOP principles in mind. The “Book” class will have following attributes:"
   ]
  },
  {
   "cell_type": "markdown",
   "id": "0bc8ea18",
   "metadata": {},
   "source": [
    "a. title: Represents the title of the book.\n",
    "b. author: Represents the author(s) of the book.\n",
    "c. isbn: Represents the ISBN (International Standard Book Number) of the book.\n",
    "d. publication_year: Represents the year of publication of the book.\n",
    "e. available_copies: Represents the number of copies available for checkout.\n",
    "The class will also include the following methods:\n",
    "a. check_out(self): Decrements the available copies by one if there are copies\n",
    "available for checkout.\n",
    "b. return_book(self): Increments the available copies by one when a book is\n",
    "returned.\n",
    "c. display_book_info(self): Displays the information about the book, including its\n",
    "attributes and the number of available copies."
   ]
  },
  {
   "cell_type": "code",
   "execution_count": 6,
   "id": "f4dc45d8",
   "metadata": {},
   "outputs": [],
   "source": [
    "class Book:\n",
    "    def __init__(self, title, author, isbn, publication_year, available_copies):\n",
    "        self.title = title\n",
    "        self.author = author\n",
    "        self.isbn = isbn\n",
    "        self.publication_year = publication_year\n",
    "        self.available_copies = available_copies\n",
    "\n",
    "    def check_out(self):\n",
    "        if self.available_copies > 0:\n",
    "            self.available_copies -= 1\n",
    "            print(f\"Checked out {self.title}. {self.available_copies} copies remaining.\")\n",
    "        else:\n",
    "            print(f\"No copies of {self.title} are available for checkout.\")\n",
    "\n",
    "    def return_book(self):\n",
    "        self.available_copies += 1\n",
    "        print(f\"Returned {self.title}. {self.available_copies} copies now available.\")\n",
    "\n",
    "    def display_book_info(self):\n",
    "        print(f\"Title: {self.title}\")\n",
    "        print(f\"Author: {self.author}\")\n",
    "        print(f\"ISBN: {self.isbn}\")\n",
    "        print(f\"Publication Year: {self.publication_year}\")\n",
    "        print(f\"Available Copies: {self.available_copies}\")"
   ]
  },
  {
   "cell_type": "code",
   "execution_count": 9,
   "id": "6c194131",
   "metadata": {},
   "outputs": [
    {
     "name": "stdout",
     "output_type": "stream",
     "text": [
      "Checked out Python for Data Science. 49 copies remaining.\n",
      "Title: Python for Data Science\n",
      "Author: Wess McKinney\n",
      "ISBN: 9780989887\n",
      "Publication Year: 2011\n",
      "Available Copies: 49\n"
     ]
    }
   ],
   "source": [
    "my_book = Book(\"Python for Data Science\", \"Wess McKinney\", \"9780989887\", 2011, 50)\n",
    "my_book.check_out()\n",
    "my_book.display_book_info()"
   ]
  },
  {
   "cell_type": "markdown",
   "id": "8ff2043b",
   "metadata": {},
   "source": [
    "### 8. For a ticket booking system, you have to design the \"Ticket\" class with OOP principles in mind. The “Ticket” class should have the following attributes:"
   ]
  },
  {
   "cell_type": "markdown",
   "id": "38b317e5",
   "metadata": {},
   "source": [
    "a. ticket_id: Represents the unique identifier for the ticket.\n",
    "b. event_name: Represents the name of the event.\n",
    "c. event_date: Represents the date of the event.\n",
    "d. venue: Represents the venue of the event.\n",
    "e. seat_number: Represents the seat number associated with the ticket.\n",
    "f. price: Represents the price of the ticket.\n",
    "g. is_reserved: Represents the reservation status of the ticket.\n",
    "The class also includes the following methods:\n",
    "a. reserve_ticket(self): Marks the ticket as reserved if it is not already reserved.\n",
    "b. cancel_reservation(self): Cancels the reservation of the ticket if it is already\n",
    "reserved.\n",
    "c. display_ticket_info(self): Displays the information about the ticket, including its\n",
    "attributes and reservation status."
   ]
  },
  {
   "cell_type": "code",
   "execution_count": 10,
   "id": "d3cdac13",
   "metadata": {},
   "outputs": [],
   "source": [
    "class Ticket:\n",
    "    def __init__(self, ticket_id, event_name, event_date, venue, seat_number, price):\n",
    "        self.ticket_id = ticket_id\n",
    "        self.event_name = event_name\n",
    "        self.event_date = event_date\n",
    "        self.venue = venue\n",
    "        self.seat_number = seat_number\n",
    "        self.price = price\n",
    "        self.is_reserved = False\n",
    "\n",
    "    def reserve_ticket(self):\n",
    "        if not self.is_reserved:\n",
    "            self.is_reserved = True\n",
    "            print(f\"Ticket {self.ticket_id} has been reserved.\")\n",
    "        else:\n",
    "            print(f\"Ticket {self.ticket_id} is already reserved.\")\n",
    "\n",
    "    def cancel_reservation(self):\n",
    "        if self.is_reserved:\n",
    "            self.is_reserved = False\n",
    "            print(f\"Reservation for ticket {self.ticket_id} has been cancelled.\")\n",
    "        else:\n",
    "            print(f\"Ticket {self.ticket_id} is not reserved.\")\n",
    "\n",
    "    def display_ticket_info(self):\n",
    "        print(f\"Ticket ID: {self.ticket_id}\")\n",
    "        print(f\"Event Name: {self.event_name}\")\n",
    "        print(f\"Event Date: {self.event_date}\")\n",
    "        print(f\"Venue: {self.venue}\")\n",
    "        print(f\"Seat Number: {self.seat_number}\")\n",
    "        print(f\"Price: {self.price}\")\n",
    "        print(f\"Reservation Status: {'Reserved' if self.is_reserved else 'Not Reserved'}\")"
   ]
  },
  {
   "cell_type": "code",
   "execution_count": 12,
   "id": "ec1683ed",
   "metadata": {},
   "outputs": [
    {
     "name": "stdout",
     "output_type": "stream",
     "text": [
      "Ticket 1 has been reserved.\n",
      "Ticket ID: 1\n",
      "Event Name: Placement\n",
      "Event Date: 2023-08-15\n",
      "Venue: iNeuron\n",
      "Seat Number: A1\n",
      "Price: 100\n",
      "Reservation Status: Reserved\n"
     ]
    }
   ],
   "source": [
    "my_ticket = Ticket(1, \"Placement\", \"2023-08-15\", \"iNeuron\", \"A1\", 100)\n",
    "my_ticket.reserve_ticket()\n",
    "my_ticket.display_ticket_info()"
   ]
  },
  {
   "cell_type": "markdown",
   "id": "dde2c3fc",
   "metadata": {},
   "source": [
    "### 9. You are creating a shopping cart for an e-commerce website. Using OOP to modelthe \"ShoppingCart\" functionality the class should contain following attributes and methods:\n"
   ]
  },
  {
   "cell_type": "markdown",
   "id": "269c5f88",
   "metadata": {},
   "source": [
    "a. items: Represents the list of items in the shopping cart.\n",
    "The class also includes the following methods:\n",
    "a. add_item(self, item): Adds an item to the shopping cart by appending it to the\n",
    "list of items.\n",
    "b. remove_item(self, item): Removes an item from the shopping cart if it exists in\n",
    "the list.\n",
    "c. view_cart(self): Displays the items currently present in the shopping cart.\n",
    "d. clear_cart(self): Clears all items from the shopping cart by reassigning an\n",
    "empty list to the items attribut"
   ]
  },
  {
   "cell_type": "code",
   "execution_count": 13,
   "id": "e885b8c7",
   "metadata": {},
   "outputs": [],
   "source": [
    "class ShoppingCart:\n",
    "    def __init__(self):\n",
    "        self.items = []\n",
    "\n",
    "    def add_item(self, item):\n",
    "        self.items.append(item)\n",
    "        print(f\"Added {item} to the shopping cart.\")\n",
    "\n",
    "    def remove_item(self, item):\n",
    "        if item in self.items:\n",
    "            self.items.remove(item)\n",
    "            print(f\"Removed {item} from the shopping cart.\")\n",
    "        else:\n",
    "            print(f\"{item} is not in the shopping cart.\")\n",
    "\n",
    "    def view_cart(self):\n",
    "        if len(self.items) == 0:\n",
    "            print(\"The shopping cart is empty.\")\n",
    "        else:\n",
    "            print(\"The shopping cart contains:\")\n",
    "            for item in self.items:\n",
    "                print(f\"- {item}\")\n",
    "\n",
    "    def clear_cart(self):\n",
    "        self.items = []\n",
    "        print(\"Cleared all items from the shopping cart.\")"
   ]
  },
  {
   "cell_type": "code",
   "execution_count": 14,
   "id": "5d15f55c",
   "metadata": {},
   "outputs": [],
   "source": [
    "my_cart = ShoppingCart()"
   ]
  },
  {
   "cell_type": "code",
   "execution_count": 15,
   "id": "c1fbf774",
   "metadata": {},
   "outputs": [
    {
     "name": "stdout",
     "output_type": "stream",
     "text": [
      "Added Shirt to the shopping cart.\n",
      "Added Pants to the shopping cart.\n",
      "The shopping cart contains:\n",
      "- Shirt\n",
      "- Pants\n",
      "Removed Shirt from the shopping cart.\n",
      "Cleared all items from the shopping cart.\n"
     ]
    }
   ],
   "source": [
    "my_cart.add_item(\"Shirt\")\n",
    "my_cart.add_item(\"Pants\")\n",
    "my_cart.view_cart()\n",
    "my_cart.remove_item(\"Shirt\")\n",
    "my_cart.clear_cart()\n"
   ]
  },
  {
   "cell_type": "markdown",
   "id": "d47cba78",
   "metadata": {},
   "source": [
    "### 10. Imagine a school management system. You have to design the \"Student\" class usingOOP concepts.The “Student” class has the following attributes:\n"
   ]
  },
  {
   "cell_type": "markdown",
   "id": "30821c51",
   "metadata": {},
   "source": [
    "a. name: Represents the name of the student.\n",
    "b. age: Represents the age of the student.\n",
    "c. grade: Represents the grade or class of the student.\n",
    "d. student_id: Represents the unique identifier for the student.\n",
    "e. attendance: Represents the attendance record of the student.\n",
    "The class should also include the following methods:\n",
    "a. update_attendance(self, date, status): Updates the attendance record of the\n",
    "student for a given date with the provided status (e.g., present or absent).\n",
    "b. get_attendance(self): Returns the attendance record of the student.\n",
    "c. get_average_attendance(self): Calculates and returns the average\n",
    "attendance percentage of the student based on their attendance record."
   ]
  },
  {
   "cell_type": "code",
   "execution_count": 16,
   "id": "9f4e21f1",
   "metadata": {},
   "outputs": [],
   "source": [
    "class Student:\n",
    "    def __init__(self, name, age, grade, student_id):\n",
    "        self.name = name\n",
    "        self.age = age\n",
    "        self.grade = grade\n",
    "        self.student_id = student_id\n",
    "        self.attendance = {}\n",
    "\n",
    "    def update_attendance(self, date, status):\n",
    "        self.attendance[date] = status\n",
    "        print(f\"Updated attendance for {self.name} on {date} to {status}.\")\n",
    "\n",
    "    def get_attendance(self):\n",
    "        return self.attendance\n",
    "\n",
    "    def get_average_attendance(self):\n",
    "        total_days = len(self.attendance)\n",
    "        if total_days == 0:\n",
    "            return 0\n",
    "        present_days = sum([1 for status in self.attendance.values() if status == \"present\"])\n",
    "        return (present_days / total_days) * 100"
   ]
  },
  {
   "cell_type": "code",
   "execution_count": 17,
   "id": "74b03c13",
   "metadata": {},
   "outputs": [],
   "source": [
    "my_student = Student(\"John Doe\", 16, 10, 12345)"
   ]
  },
  {
   "cell_type": "code",
   "execution_count": 19,
   "id": "73711cc8",
   "metadata": {},
   "outputs": [
    {
     "name": "stdout",
     "output_type": "stream",
     "text": [
      "Updated attendance for John Doe on 2023-08-11 to present.\n",
      "Updated attendance for John Doe on 2023-08-10 to absent.\n",
      "50.0\n"
     ]
    }
   ],
   "source": [
    "my_student.update_attendance(\"2023-08-11\", \"present\")\n",
    "my_student.update_attendance(\"2023-08-10\", \"absent\")\n",
    "print(my_student.get_average_attendance())"
   ]
  },
  {
   "cell_type": "code",
   "execution_count": null,
   "id": "e4dc27e0",
   "metadata": {},
   "outputs": [],
   "source": []
  },
  {
   "cell_type": "code",
   "execution_count": null,
   "id": "ee79d52c",
   "metadata": {},
   "outputs": [],
   "source": []
  },
  {
   "cell_type": "code",
   "execution_count": null,
   "id": "f40ffab5",
   "metadata": {},
   "outputs": [],
   "source": []
  },
  {
   "cell_type": "code",
   "execution_count": null,
   "id": "253887ba",
   "metadata": {},
   "outputs": [],
   "source": []
  },
  {
   "cell_type": "code",
   "execution_count": null,
   "id": "ff1706ab",
   "metadata": {},
   "outputs": [],
   "source": []
  },
  {
   "cell_type": "code",
   "execution_count": null,
   "id": "97eecebd",
   "metadata": {},
   "outputs": [],
   "source": []
  },
  {
   "cell_type": "code",
   "execution_count": null,
   "id": "cc467bba",
   "metadata": {},
   "outputs": [],
   "source": []
  },
  {
   "cell_type": "code",
   "execution_count": null,
   "id": "0b75a7d7",
   "metadata": {},
   "outputs": [],
   "source": []
  },
  {
   "cell_type": "code",
   "execution_count": null,
   "id": "7cf389dd",
   "metadata": {},
   "outputs": [],
   "source": []
  },
  {
   "cell_type": "code",
   "execution_count": null,
   "id": "138afe46",
   "metadata": {},
   "outputs": [],
   "source": []
  },
  {
   "cell_type": "code",
   "execution_count": null,
   "id": "524cb5ad",
   "metadata": {},
   "outputs": [],
   "source": []
  },
  {
   "cell_type": "code",
   "execution_count": null,
   "id": "9ea7b85d",
   "metadata": {},
   "outputs": [],
   "source": []
  },
  {
   "cell_type": "code",
   "execution_count": null,
   "id": "088d95c6",
   "metadata": {},
   "outputs": [],
   "source": []
  },
  {
   "cell_type": "code",
   "execution_count": null,
   "id": "beb7e5e1",
   "metadata": {},
   "outputs": [],
   "source": []
  },
  {
   "cell_type": "code",
   "execution_count": null,
   "id": "8702e051",
   "metadata": {},
   "outputs": [],
   "source": []
  },
  {
   "cell_type": "code",
   "execution_count": null,
   "id": "17d5f8ec",
   "metadata": {},
   "outputs": [],
   "source": []
  },
  {
   "cell_type": "code",
   "execution_count": null,
   "id": "fd464d2b",
   "metadata": {},
   "outputs": [],
   "source": []
  },
  {
   "cell_type": "code",
   "execution_count": null,
   "id": "738f4276",
   "metadata": {},
   "outputs": [],
   "source": []
  },
  {
   "cell_type": "code",
   "execution_count": null,
   "id": "b8b4c3ac",
   "metadata": {},
   "outputs": [],
   "source": []
  },
  {
   "cell_type": "code",
   "execution_count": null,
   "id": "56a7165a",
   "metadata": {},
   "outputs": [],
   "source": []
  },
  {
   "cell_type": "code",
   "execution_count": null,
   "id": "935a2e09",
   "metadata": {},
   "outputs": [],
   "source": []
  },
  {
   "cell_type": "code",
   "execution_count": null,
   "id": "472149f8",
   "metadata": {},
   "outputs": [],
   "source": []
  },
  {
   "cell_type": "code",
   "execution_count": null,
   "id": "c511d190",
   "metadata": {},
   "outputs": [],
   "source": []
  },
  {
   "cell_type": "code",
   "execution_count": null,
   "id": "a62aa41d",
   "metadata": {},
   "outputs": [],
   "source": []
  },
  {
   "cell_type": "code",
   "execution_count": null,
   "id": "820c73f4",
   "metadata": {},
   "outputs": [],
   "source": []
  },
  {
   "cell_type": "code",
   "execution_count": null,
   "id": "592422b2",
   "metadata": {},
   "outputs": [],
   "source": []
  },
  {
   "cell_type": "code",
   "execution_count": null,
   "id": "350d6f1f",
   "metadata": {},
   "outputs": [],
   "source": []
  },
  {
   "cell_type": "code",
   "execution_count": null,
   "id": "9afccb39",
   "metadata": {},
   "outputs": [],
   "source": []
  },
  {
   "cell_type": "code",
   "execution_count": null,
   "id": "4ea95123",
   "metadata": {},
   "outputs": [],
   "source": []
  },
  {
   "cell_type": "code",
   "execution_count": null,
   "id": "5db2af9d",
   "metadata": {},
   "outputs": [],
   "source": []
  }
 ],
 "metadata": {
  "kernelspec": {
   "display_name": "Python 3 (ipykernel)",
   "language": "python",
   "name": "python3"
  },
  "language_info": {
   "codemirror_mode": {
    "name": "ipython",
    "version": 3
   },
   "file_extension": ".py",
   "mimetype": "text/x-python",
   "name": "python",
   "nbconvert_exporter": "python",
   "pygments_lexer": "ipython3",
   "version": "3.10.9"
  }
 },
 "nbformat": 4,
 "nbformat_minor": 5
}
